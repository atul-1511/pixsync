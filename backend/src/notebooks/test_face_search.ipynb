{
  "cells": [
    {
      "cell_type": "markdown",
      "metadata": {},
      "source": [
        "## 1. Configure paths"
      ]
    },
    {
      "cell_type": "code",
      "execution_count": null,
      "metadata": {},
      "outputs": [],
      "source": [
        "\n",
        "import pathlib\n",
        "\n",
        "# Change these as needed\n",
        "IMG_DIR = pathlib.Path('/Users/59423/Downloads/JPEG 02/')        # folder with your photo library\n",
        "SELFIE_PATH = pathlib.Path('/Users/59423/Desktop/selfie.jpg')  # selfie image file\n",
        "INDEX_PATH = 'faces.index'\n",
        "META_DB = 'faces.sqlite'\n",
        "\n",
        "if not IMG_DIR.exists():\n",
        "    raise FileNotFoundError('Photos folder not found: ' + str(IMG_DIR))\n",
        "if not SELFIE_PATH.exists():\n",
        "    raise FileNotFoundError('Selfie not found: ' + str(SELFIE_PATH))\n"
      ]
    },
    {
      "cell_type": "code",
      "execution_count": null,
      "id": "cf739f07",
      "metadata": {},
      "outputs": [],
      "source": [
        "import os\n",
        "from pathlib import Path\n",
        "\n",
        "# Step up 3 levels from current notebook dir\n",
        "backend_path = Path.cwd().parents[1]  # notebooks → src → backend\n",
        "os.chdir(backend_path)\n",
        "\n",
        "print(f\"Now in: {os.getcwd()}\")"
      ]
    },
    {
      "cell_type": "markdown",
      "metadata": {},
      "source": [
        "## 2. Build / update the index"
      ]
    },
    {
      "cell_type": "code",
      "execution_count": null,
      "metadata": {},
      "outputs": [],
      "source": [
        "\n",
        "from src.utils.face_indexer import FaceIndexer\n",
        "import types\n",
        "\n",
        "face_indexer = FaceIndexer(IMG_DIR)\n",
        "face_indexer.index_faces()"
      ]
    },
    {
      "cell_type": "markdown",
      "metadata": {},
      "source": [
        "## 3. Run search"
      ]
    },
    {
      "cell_type": "code",
      "execution_count": null,
      "id": "29a4cf9f",
      "metadata": {},
      "outputs": [],
      "source": [
        "from src.services.face_search import FaceSearch"
      ]
    },
    {
      "cell_type": "code",
      "execution_count": null,
      "id": "5dbcd5f2",
      "metadata": {},
      "outputs": [],
      "source": [
        "face_search = FaceSearch(top_k=100)\n",
        "matches = face_search.search(str(SELFIE_PATH))\n",
        "\n",
        "print(f\"Found {len(matches)} matching images\")\n",
        "matches[:10]  # show first 10"
      ]
    },
    {
      "cell_type": "markdown",
      "metadata": {},
      "source": [
        "### Display thumbnails (optional)"
      ]
    },
    {
      "cell_type": "code",
      "execution_count": null,
      "metadata": {},
      "outputs": [],
      "source": [
        "import matplotlib.pyplot as plt\n",
        "import cv2\n",
        "\n",
        "cols = 4\n",
        "rows = (len(matches) + cols - 1) // cols\n",
        "plt.figure(figsize=(4*cols, 3*rows))\n",
        "for i, path in enumerate(matches):\n",
        "    img = cv2.cvtColor(cv2.imread(path), cv2.COLOR_BGR2RGB)\n",
        "    plt.subplot(rows, cols, i+1)\n",
        "    plt.imshow(img)\n",
        "    plt.title(pathlib.Path(path).name)\n",
        "    plt.axis('off')\n",
        "plt.tight_layout()"
      ]
    }
  ],
  "metadata": {
    "kernelspec": {
      "display_name": "Python 3",
      "language": "python",
      "name": "python3"
    },
    "language_info": {
      "codemirror_mode": {
        "name": "ipython",
        "version": 3
      },
      "file_extension": ".py",
      "mimetype": "text/x-python",
      "name": "python",
      "nbconvert_exporter": "python",
      "pygments_lexer": "ipython3",
      "version": "3.12.4"
    }
  },
  "nbformat": 4,
  "nbformat_minor": 5
}
